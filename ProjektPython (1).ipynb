{
  "cells": [
    {
      "cell_type": "code",
      "execution_count": null,
      "metadata": {
        "id": "UWef6aFdA7oO"
      },
      "outputs": [],
      "source": [
        "import pandas as pd\n",
        "import numpy as np\n",
        "import matplotlib.pyplot as plt\n",
        "from scipy.optimize import curve_fit"
      ]
    },
    {
      "cell_type": "markdown",
      "metadata": {
        "id": "l3XR-SnhHLUr"
      },
      "source": [
        "### V1"
      ]
    },
    {
      "cell_type": "code",
      "execution_count": null,
      "metadata": {
        "id": "5vAtlSt3Oz8H"
      },
      "outputs": [],
      "source": [
        "#v2\n",
        "\n",
        "#data prepare\n",
        "path = '/content/drive/MyDrive/MagisterkaPierwszySem/Pythoning/PythonProjekt/plik_exp.txt'\n",
        "\n",
        "data1_read = np.loadtxt(path, usecols=range(1,10), skiprows=1,dtype='str')\n",
        "data2_read = np.loadtxt(path, usecols=range(11,20), skiprows=1,dtype='str')\n",
        "data3_read = np.loadtxt(path, usecols=range(21,30), skiprows=1,dtype='str')\n",
        "data4_read = np.loadtxt(path, usecols=range(31,40), skiprows=1,dtype='str')\n",
        "\n",
        "data_read = [data1_read, data2_read, data3_read, data4_read]\n",
        "\n",
        "\n",
        "\n",
        "for k in range(0,4):\n",
        "  for i in range(0,9):\n",
        "    for j in range(0,481):\n",
        "      data_read[k][j,i] = float(data_read[k][j,i].replace(',','.'))\n",
        "\n",
        "# print(data_read[:][:,:]) #test print\n",
        "#struktura: [badanie][wiersz,kolumna]\n",
        "\n",
        "\n",
        "\n"
      ]
    },
    {
      "cell_type": "code",
      "execution_count": null,
      "metadata": {
        "colab": {
          "base_uri": "https://localhost:8080/"
        },
        "id": "rM-QgikRdcNi",
        "outputId": "385411f1-30fd-4bb8-c70c-3e51cf819d0d"
      },
      "outputs": [
        {
          "output_type": "stream",
          "name": "stdout",
          "text": [
            "Tempo spadku (współczynnik 'b'): -0.0036326705510251597\n"
          ]
        }
      ],
      "source": [
        "badanie = 0\n",
        "kolumna = 1\n",
        "\n",
        "odczyt = data_read[badanie][:,kolumna]\n",
        "t = np.arange(0,240.5,0.5)\n",
        "\n",
        "\n",
        "[a, b], res1 = curve_fit(lambda x1,a,b: a*np.exp(-b*x1),  t,  odczyt)\n",
        "exp1 = a * np.exp(-b * t)\n",
        "\n",
        "print(\"Tempo spadku (współczynnik 'b'): \"+ str(-b))\n",
        "\n"
      ]
    },
    {
      "cell_type": "code",
      "source": [],
      "metadata": {
        "id": "al3P2KFE9bLK"
      },
      "execution_count": null,
      "outputs": []
    },
    {
      "cell_type": "code",
      "source": [],
      "metadata": {
        "id": "pHFCRegP9bDR"
      },
      "execution_count": null,
      "outputs": []
    },
    {
      "cell_type": "code",
      "source": [],
      "metadata": {
        "id": "7ZXB4zb59a5h"
      },
      "execution_count": null,
      "outputs": []
    },
    {
      "cell_type": "markdown",
      "source": [
        "### V2 - class"
      ],
      "metadata": {
        "id": "M0K7VgZx9bbJ"
      }
    },
    {
      "cell_type": "code",
      "source": [
        "#classowo\n",
        "class DATA:\n",
        "  def __init__(self,badanie,kolumna):\n",
        "    self.badanie = badanie\n",
        "    self.kolumna = kolumna\n",
        "\n",
        "  #ładowanie bazy danych dla konkretnego badania - oszczednosc\n",
        "  def loadData(self):\n",
        "    path = '/content/drive/MyDrive/MagisterkaPierwszySem/Pythoning/PythonProjekt/plik_exp.txt'\n",
        "    nrkol1 = self.badanie*10+1\n",
        "    nrkol2 = self.badanie*10+10\n",
        "\n",
        "    data_read = np.loadtxt(path, usecols=range(nrkol1,nrkol2), skiprows=1,dtype='str')\n",
        "\n",
        "    for i in range(0,9):\n",
        "      for j in range(0,481):\n",
        "        data_read[j,i] = float(data_read[j,i].replace(',','.'))\n",
        "    return data_read\n",
        "\n",
        "  #obliczanie wsp. z wybranej kolumny i badania\n",
        "  def calcCoef(self):\n",
        "    data = self.loadData()\n",
        "    odczyt = data[:,self.kolumna]\n",
        "    t = np.arange(0,240.5,0.5)\n",
        "\n",
        "    [a, b], res1 = curve_fit(lambda x1,a,b: a*np.exp(-b*x1),  t,  odczyt)\n",
        "    exp1 = a * np.exp(-b * t)\n",
        "    print(-b)\n",
        "    return -b\n",
        "\n",
        "  #obliczanie wszystkich wsp. dla danego badania\n",
        "  def calcAllCoefs(self):\n",
        "    data = self.loadData()\n",
        "    t = np.arange(0,240.5,0.5)\n",
        "    b_coefs = []\n",
        "\n",
        "    for i in range(0,9):\n",
        "      odczyt = data[:,i]\n",
        "      [a, b], res1 = curve_fit(lambda x1,a,b: a*np.exp(-b*x1),  t,  odczyt)\n",
        "      exp1 = a * np.exp(-b * t)\n",
        "      b_coefs.append(-b)\n",
        "    print(b_coefs)\n",
        "    return b_coefs\n",
        "\n",
        "  #zapisuje do pliku txt wsp. dla danego badania\n",
        "  def saveDataInFile(self):\n",
        "    f = open(\"b_coefs\"+str(self.badanie)+\".txt\", \"a\")\n",
        "    f = open(\"b_coefs\"+str(self.badanie)+\".txt\", \"w\")\n",
        "    f.write(str(self.calcAllCoefs()))\n",
        "    f.close()\n",
        "\n",
        "test = DATA(0,2)\n",
        "test.calcCoef()\n",
        "test.calcAllCoefs()\n",
        "test.saveDataInFile()"
      ],
      "metadata": {
        "colab": {
          "base_uri": "https://localhost:8080/"
        },
        "id": "vf1bn5tW9F2c",
        "outputId": "a7e8d352-b0ef-4b7e-f710-b8a5ee234c6b"
      },
      "execution_count": null,
      "outputs": [
        {
          "output_type": "stream",
          "name": "stdout",
          "text": [
            "-0.003936655672437826\n",
            "[-0.0007832035663014198, -0.0036326705510251597, -0.003936655672437826, -0.00478992143574429, -0.004983962339010467, -0.004940942754338842, -0.004793768122312571, -0.004595351487659531, -0.003905222051009388]\n",
            "[-0.0007832035663014198, -0.0036326705510251597, -0.003936655672437826, -0.00478992143574429, -0.004983962339010467, -0.004940942754338842, -0.004793768122312571, -0.004595351487659531, -0.003905222051009388]\n"
          ]
        }
      ]
    },
    {
      "cell_type": "code",
      "execution_count": null,
      "metadata": {
        "id": "c-w9NFaxwJc3"
      },
      "outputs": [],
      "source": []
    },
    {
      "cell_type": "code",
      "source": [],
      "metadata": {
        "id": "A435HF4B8BUN"
      },
      "execution_count": null,
      "outputs": []
    },
    {
      "cell_type": "code",
      "source": [],
      "metadata": {
        "id": "4sUEaDnZ9I8g"
      },
      "execution_count": null,
      "outputs": []
    },
    {
      "cell_type": "markdown",
      "source": [
        "### V3 - USER"
      ],
      "metadata": {
        "id": "tRiRTEMk9JMD"
      }
    },
    {
      "cell_type": "code",
      "execution_count": null,
      "metadata": {
        "id": "dQV-7zPYC473"
      },
      "outputs": [],
      "source": [
        "#V1\n",
        "data = []\n",
        "\n",
        "data = pd.read_excel('/content/drive/MyDrive/MagisterkaPierwszySem/Pythoning/PythonProjekt/python_data.xlsx')\n",
        "\n",
        "file_loc = '/content/drive/MyDrive/MagisterkaPierwszySem/Pythoning/PythonProjekt/python_data.xlsx'\n",
        "data1exp_read = pd.read_excel(file_loc, index_col=None, na_values=['NA'], usecols=\"D:L\")\n",
        "data2exp_read = pd.read_excel(file_loc, index_col=None, na_values=['NA'], usecols=\"O:W\")\n",
        "data3exp_read = pd.read_excel(file_loc, index_col=None, na_values=['NA'], usecols=\"AA:AI\")\n",
        "data4exp_read = pd.read_excel(file_loc, index_col=None, na_values=['NA'], usecols=\"AL:AT\")\n",
        "\n",
        "data1exp = data1exp_read.values\n",
        "data2exp = data2exp_read.values\n",
        "data3exp = data3exp_read.values\n",
        "data4exp = data4exp_read.values\n",
        "\n",
        "data1exp = np.delete(data1exp,0,0)\n",
        "data2exp = np.delete(data2exp,0,0)\n",
        "data3exp = np.delete(data3exp,0,0)\n",
        "data4exp = np.delete(data4exp,0,0)\n",
        "\n",
        "\n",
        "t = np.arange(0,240.5,0.5)"
      ]
    },
    {
      "cell_type": "code",
      "execution_count": null,
      "metadata": {
        "id": "S5dIbTWzJd4I"
      },
      "outputs": [],
      "source": [
        "plt.plot(t,data1exp[1:,0],t,data1exp[1:,1],t,data1exp[1:,2],t,data1exp[1:,3],t,data1exp[1:,4],t,data1exp[1:,5],t,data1exp[1:,6],t,data1exp[1:,7],t,data1exp[1:,8])\n",
        "plt.legend([str(data1exp[0,0]),str(data1exp[0,1]),str(data1exp[0,2]),str(data1exp[0,3]),str(data1exp[0,4]),str(data1exp[0,5]),str(data1exp[0,6]),str(data1exp[0,7]),str(data1exp[0,8])], loc =\"lower right\")\n",
        "plt.title(\"DATA\")"
      ]
    },
    {
      "cell_type": "code",
      "execution_count": null,
      "metadata": {
        "id": "tGiMUP6tKDKs"
      },
      "outputs": [],
      "source": [
        "[a, b], res1 = curve_fit(lambda x1,a,b: a*np.exp(-b*x1),  t,  data1exp[1:,1])\n",
        "\n",
        "exp1 = a * np.exp(-b * t)\n",
        "\n",
        "print(\"Tempo spadku (współczynnik 'b'): \"+ str(-b))\n",
        "plt.plot(t, data1exp[1:,1], 'b')\n",
        "plt.plot(t, exp1, 'r')\n",
        "plt.show()"
      ]
    },
    {
      "cell_type": "code",
      "execution_count": null,
      "metadata": {
        "id": "ehMxC_FrfP4t"
      },
      "outputs": [],
      "source": [
        "def user_input():\n",
        "  user_badanie = input(\"Podaj nr badania (1-4): \")\n",
        "  if user_badanie == '1':\n",
        "    badanie=0\n",
        "    data = data1exp\n",
        "  elif user_badanie == '2':\n",
        "    badanie=1\n",
        "    data = data2exp\n",
        "  elif user_badanie == '3':\n",
        "    badanie=2\n",
        "    data = data3exp\n",
        "  elif user_badanie == '4':\n",
        "    badanie=3\n",
        "    data = data4exp\n",
        "  user_reynolds = input(\"Podaj liczbe Reynoldsa dla badania \"+str(user_badanie)+\" (60,65,70,80,90,100,110,120,150):\")\n",
        "  if user_reynolds == '60':\n",
        "    reynolds=0\n",
        "  elif user_reynolds == '65':\n",
        "    reynolds=1\n",
        "  elif user_reynolds == '70':\n",
        "    reynolds=2\n",
        "  elif user_reynolds == '80':\n",
        "    reynolds=3\n",
        "  elif user_reynolds == '90':\n",
        "    reynolds=4\n",
        "  elif user_reynolds == '100':\n",
        "    reynolds=5\n",
        "  elif user_reynolds == '110':\n",
        "    reynolds=6\n",
        "  elif user_reynolds == '120':\n",
        "    reynolds=7\n",
        "  elif user_reynolds == '150':\n",
        "    reynolds=8\n",
        "  return user_reynolds, user_badanie, reynolds, badanie, data\n",
        "\n",
        "def calc(reynolds, data):\n",
        "  [a, b], res1 = curve_fit(lambda x1,a,b: a*np.exp(-b*x1),  t,  data[1:,reynolds])\n",
        "  expcurve = a * np.exp(-b * t)\n",
        "  return b, expcurve\n",
        "\n",
        "\n",
        "def plots(data,badanie,user_reynolds,b,expcurve):\n",
        "  plt.plot(t,data[1:,int(reynolds)])\n",
        "  plt.title(\"Wykres badania:\"+str(user_badanie)+\" dla Re\"+str(user_reynolds))\n",
        "  print(\"Tempo spadku (współczynnik 'b'): \"+ str(-b))\n",
        "  plt.plot(t, expcurve, 'r')\n",
        "  # plt.legend( [str(data(0,reynolds)),'curveFit']), loc =\"lower right\" )\n",
        "  plt.legend( [\"Re\"+str(data[0,reynolds]), \"curve fit\" ] , loc=\"lower right\")"
      ]
    },
    {
      "cell_type": "code",
      "execution_count": null,
      "metadata": {
        "id": "55W8QkqKZAsk"
      },
      "outputs": [],
      "source": [
        "\n",
        "[user_reynolds, user_badanie, reynolds, badanie, data] = user_input()\n",
        "[b,expcurve] = calc(reynolds, data)\n",
        "plots(data, badanie, user_reynolds, b,expcurve)\n",
        "\n",
        "\n"
      ]
    }
  ],
  "metadata": {
    "colab": {
      "provenance": []
    },
    "kernelspec": {
      "display_name": "Python 3",
      "name": "python3"
    },
    "language_info": {
      "name": "python"
    }
  },
  "nbformat": 4,
  "nbformat_minor": 0
}